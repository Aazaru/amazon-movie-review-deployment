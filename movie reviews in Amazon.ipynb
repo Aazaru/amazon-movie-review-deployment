{
 "cells": [
  {
   "cell_type": "code",
   "execution_count": 2,
   "id": "51c11f5f",
   "metadata": {},
   "outputs": [],
   "source": [
    "import numpy as np\n",
    "import pandas as pd\n",
    "import matplotlib.pyplot as plt\n",
    "%matplotlib inline\n",
    "import seaborn as sns\n",
    "import warnings\n",
    "warnings.filterwarnings(\"ignore\")\n",
    "import datetime as dt\n",
    "from scipy.stats import stats"
   ]
  },
  {
   "cell_type": "code",
   "execution_count": 3,
   "id": "1435cac0",
   "metadata": {},
   "outputs": [],
   "source": [
    "data = pd.read_csv(\"movies new CLEAN.csv\")\n",
    "data.drop(columns=['Unnamed: 3',\"Unnamed: 6\",\"date\",\"verifed\",\"reviewID\"],axis=1,inplace=True)"
   ]
  },
  {
   "cell_type": "code",
   "execution_count": 4,
   "id": "abc47e59",
   "metadata": {},
   "outputs": [],
   "source": [
    "data.dropna(inplace=True)"
   ]
  },
  {
   "cell_type": "code",
   "execution_count": 5,
   "id": "d44e7450",
   "metadata": {},
   "outputs": [],
   "source": [
    "data['vote']=data[\"vote\"].replace(\" \",None)\n",
    "data['vote']=pd.to_numeric(data[\"vote\"])\n",
    "data['vote']=data['vote'].fillna(data['vote'].mean())\n",
    "data['vote']=data['vote'].astype(\"int64\")\n",
    "data=data.sample(n=10000,random_state=124)"
   ]
  },
  {
   "cell_type": "code",
   "execution_count": 6,
   "id": "abcbfe20",
   "metadata": {},
   "outputs": [],
   "source": [
    "data[\"format\"]=data[\"format\"].str.strip()"
   ]
  },
  {
   "cell_type": "code",
   "execution_count": 7,
   "id": "9993e26a",
   "metadata": {
    "scrolled": true
   },
   "outputs": [],
   "source": [
    "data=data.drop(data[data['format'].isin([\"Paperback\",\"UMD for\",\"Bernie (xyzzy)\",\"Kitchen\",\"Hardcover\"])].index,axis=0)"
   ]
  },
  {
   "cell_type": "code",
   "execution_count": 8,
   "id": "c3fc06dc",
   "metadata": {},
   "outputs": [],
   "source": [
    "data=data.drop_duplicates()\n",
    "data=data[data['reviewerName'] != \"reviewerName\"]"
   ]
  },
  {
   "cell_type": "code",
   "execution_count": 9,
   "id": "681b4513",
   "metadata": {},
   "outputs": [],
   "source": [
    "data.reset_index(drop=True,inplace=True)"
   ]
  },
  {
   "cell_type": "code",
   "execution_count": 10,
   "id": "59d1e303",
   "metadata": {},
   "outputs": [
    {
     "name": "stderr",
     "output_type": "stream",
     "text": [
      "[nltk_data] Downloading package punkt to\n",
      "[nltk_data]     C:\\Users\\aazar\\AppData\\Roaming\\nltk_data...\n",
      "[nltk_data]   Package punkt is already up-to-date!\n"
     ]
    }
   ],
   "source": [
    "import re\n",
    "import contractions\n",
    "import nltk\n",
    "from nltk.stem import WordNetLemmatizer\n",
    "nltk.download('punkt')\n",
    "lm=WordNetLemmatizer()"
   ]
  },
  {
   "cell_type": "code",
   "execution_count": 11,
   "id": "964d96dd",
   "metadata": {},
   "outputs": [],
   "source": [
    "stopwords=nltk.corpus.stopwords.words(\"english\")\n",
    "stopwords=set(stopwords)-{\"not\"}\n",
    "stopwords.update({\"was\"})"
   ]
  },
  {
   "cell_type": "code",
   "execution_count": 12,
   "id": "5c3764c7",
   "metadata": {},
   "outputs": [],
   "source": [
    "\n",
    "import re\n",
    "from nltk.tokenize import word_tokenize\n",
    "\n",
    "def lower(x):\n",
    "    x = x.lower()\n",
    "    return x\n",
    "\n",
    "def strip(x):\n",
    "    x = x.strip()\n",
    "    return x\n",
    "\n",
    "def expand_contraction(x):\n",
    "    x = contractions.fix(x)  # Assuming you have a contractions dictionary or module imported\n",
    "    return x\n",
    "\n",
    "def remove_special_char_and_digit(x):\n",
    "    x = re.sub(r' +', ' ', x)  # Replace multiple spaces with a single space\n",
    "    x = re.sub(r\"[^\\w\\s]|[\\d]\", \" \", x)  # Remove non-word characters and digits\n",
    "    x = re.sub(\"\\s{2,}\", \" \", x)  # Remove extra spaces\n",
    "    x = re.sub(r\"[-()\\\"#/@;:{}`+=~|.!?\\*&£%€¦_><‘|,'0-9]\", \" \", x)  # Remove specific punctuation\n",
    "    x = re.sub(r\"\\b\\w+\\d+\\b\",\" \",x)  # Remove alphanumeric words\n",
    "    return x.strip()  # Strip leading/trailing spaces\n",
    "\n",
    "def tokenize_and_clean(x):\n",
    "    tokens = word_tokenize(x)  # Tokenize the text\n",
    "    cleaned_tokens = [remove_special_char_and_digit(token.lower()) for token in tokens]  # Clean each token\n",
    "    cleaned_text = \" \".join(cleaned_tokens)  # Join cleaned tokens into a single string\n",
    "    return cleaned_text\n",
    "\n",
    "def lemm(x):\n",
    "    # Assuming lm (lemmatizer) is imported correctly\n",
    "    x = [lm.lemmatize(word) for word in word_tokenize(x)]  # Lemmatize each word\n",
    "    return \" \".join(x)  # Join lemmatized words into a single string\n",
    "\n",
    "def repeated(x):\n",
    "    words = x.split()  # Split text into words\n",
    "    unique_words = set(words)  # Get unique words\n",
    "    clean_text = \" \".join(unique_words)  # Join unique words into a single string\n",
    "    return clean_text\n",
    "\n",
    "def stop(x):\n",
    "    # Assuming stopwords list is provided as a parameter\n",
    "    return \" \".join([word for word in word_tokenize(x) if word.lower() not in stopwords])  # Remove stopwords\n"
   ]
  },
  {
   "cell_type": "code",
   "execution_count": 13,
   "id": "9a8c41e3",
   "metadata": {},
   "outputs": [],
   "source": [
    "def clean_data(x):\n",
    "    x=strip(x)\n",
    "    x=expand_contraction(x)\n",
    "    x=remove_special_char_and_digit(x)\n",
    "    x=tokenize_and_clean(x)\n",
    "    x=lemm(x)\n",
    "    x=repeated(x)\n",
    "    x=stop(x)\n",
    "    return x"
   ]
  },
  {
   "cell_type": "code",
   "execution_count": 14,
   "id": "51650234",
   "metadata": {},
   "outputs": [],
   "source": [
    "data[\"Review Title Clean\"]=data['Review Title'].apply(lambda y: clean_data(y))"
   ]
  },
  {
   "cell_type": "code",
   "execution_count": null,
   "id": "9f6e16aa",
   "metadata": {},
   "outputs": [],
   "source": []
  },
  {
   "cell_type": "code",
   "execution_count": 15,
   "id": "e0501736",
   "metadata": {},
   "outputs": [],
   "source": [
    "stopwords.update({\"wa\",\"b\",\"c\",\"ha\",\"d\",\"e\",\"f\",\"j\",\"k\",\"l\",\"m\",\"n\",\"o\",\"p\",\"q\",\"r\",\"s\",\"t\",\"u\",\n",
    "                 \"v\",\"x\",\"y\",\"z\",\"g\",\"h\",\"i\",\"ehhh\"})"
   ]
  },
  {
   "cell_type": "code",
   "execution_count": null,
   "id": "60d9297e",
   "metadata": {},
   "outputs": [],
   "source": []
  },
  {
   "cell_type": "code",
   "execution_count": 16,
   "id": "ca97ceb0",
   "metadata": {},
   "outputs": [],
   "source": [
    "data[\"Review Title Clean\"]=data[\"Review Title Clean\"].apply(stop)"
   ]
  },
  {
   "cell_type": "code",
   "execution_count": 17,
   "id": "141861be",
   "metadata": {},
   "outputs": [],
   "source": [
    "data.drop(columns=[\"Review Title\"],axis=1,inplace=True)"
   ]
  },
  {
   "cell_type": "code",
   "execution_count": null,
   "id": "ba1c7057",
   "metadata": {},
   "outputs": [],
   "source": []
  },
  {
   "cell_type": "code",
   "execution_count": 18,
   "id": "8a6ec40b",
   "metadata": {},
   "outputs": [],
   "source": [
    "from nltk.sentiment import SentimentIntensityAnalyzer"
   ]
  },
  {
   "cell_type": "code",
   "execution_count": 19,
   "id": "1b1966a7",
   "metadata": {},
   "outputs": [],
   "source": [
    "se=SentimentIntensityAnalyzer()\n",
    "data['sentiment_score']=data[\"Review Title Clean\"].apply(lambda x: se.polarity_scores(x)[\"compound\"])"
   ]
  },
  {
   "cell_type": "code",
   "execution_count": 20,
   "id": "b32f4b54",
   "metadata": {},
   "outputs": [],
   "source": [
    "def sentiment(x):\n",
    "    if x>0.1:\n",
    "        return \"positive\"\n",
    "    elif x<0:\n",
    "        return \"negative\"\n",
    "    else:\n",
    "        return \"neutral\""
   ]
  },
  {
   "cell_type": "code",
   "execution_count": 21,
   "id": "a7f11c54",
   "metadata": {},
   "outputs": [],
   "source": [
    "data['sentiment_cat']=data[\"sentiment_score\"].apply(sentiment)"
   ]
  },
  {
   "cell_type": "code",
   "execution_count": 22,
   "id": "ba0d925e",
   "metadata": {},
   "outputs": [],
   "source": [
    "data1=data[[\"format\",\"overall\",\"Review Title Clean\",\"sentiment_cat\"]]\n",
    "data1.columns=[\"format\",\"rating\",\"review_text\",\"final_review\"]"
   ]
  },
  {
   "cell_type": "code",
   "execution_count": 23,
   "id": "3f1849a6",
   "metadata": {},
   "outputs": [],
   "source": [
    "data1.to_csv(\"clean_data_10000_record.csv\")"
   ]
  },
  {
   "cell_type": "code",
   "execution_count": 24,
   "id": "5d83b1e7",
   "metadata": {},
   "outputs": [],
   "source": [
    "from sklearn.feature_extraction.text import TfidfVectorizer\n",
    "from sklearn.model_selection import train_test_split\n",
    "from sklearn.ensemble import RandomForestClassifier,GradientBoostingClassifier\n",
    "from sklearn.tree import DecisionTreeClassifier\n",
    "import xgboost as xgb\n",
    "from sklearn.svm import SVC\n",
    "from sklearn.neighbors import KNeighborsClassifier\n",
    "from sklearn.preprocessing import StandardScaler,OneHotEncoder\n",
    "from scipy.sparse import hstack,csr_matrix\n",
    "from sklearn.metrics import accuracy_score,classification_report,confusion_matrix"
   ]
  },
  {
   "cell_type": "code",
   "execution_count": 25,
   "id": "df1cd664",
   "metadata": {
    "scrolled": true
   },
   "outputs": [
    {
     "data": {
      "text/plain": [
       "array(['Amazon Video', 'DVD', 'Blu-ray', 'VHS Tape', 'HD DVD',\n",
       "       'MP3 Music', 'Audio CD'], dtype=object)"
      ]
     },
     "execution_count": 25,
     "metadata": {},
     "output_type": "execute_result"
    }
   ],
   "source": [
    "data1[\"format\"].unique()"
   ]
  },
  {
   "cell_type": "code",
   "execution_count": 26,
   "id": "06e2edb2",
   "metadata": {},
   "outputs": [],
   "source": [
    "from sklearn.preprocessing import LabelEncoder"
   ]
  },
  {
   "cell_type": "code",
   "execution_count": 27,
   "id": "aa68327b",
   "metadata": {},
   "outputs": [],
   "source": [
    "le=LabelEncoder()\n",
    "data1[\"format\"]=le.fit_transform(data1['format'])"
   ]
  },
  {
   "cell_type": "code",
   "execution_count": 30,
   "id": "04dec982",
   "metadata": {},
   "outputs": [],
   "source": [
    "from joblib import dump\n",
    "import pickle"
   ]
  },
  {
   "cell_type": "code",
   "execution_count": 31,
   "id": "f5ad06c3",
   "metadata": {},
   "outputs": [],
   "source": [
    "with open('label_encoder.pkl', 'wb') as f:\n",
    "    pickle.dump(le, f)"
   ]
  },
  {
   "cell_type": "code",
   "execution_count": 42,
   "id": "d764a8c6",
   "metadata": {},
   "outputs": [
    {
     "data": {
      "text/plain": [
       "array([0, 3, 2, 6, 4, 5, 1])"
      ]
     },
     "execution_count": 42,
     "metadata": {},
     "output_type": "execute_result"
    }
   ],
   "source": [
    "data1[\"format\"].unique()"
   ]
  },
  {
   "cell_type": "code",
   "execution_count": 44,
   "id": "05ad8318",
   "metadata": {},
   "outputs": [],
   "source": [
    "vectorizer = TfidfVectorizer(ngram_range=(1, 2), min_df=5, max_features=1000)\n",
    "x_text = vectorizer.fit_transform(data1['review_text']).toarray()\n",
    "\n",
    "# Categorical encoding\n",
    "\n",
    "X = np.concatenate([x_text, data1[[\"format\"]].values, data1[['rating']].values], axis=1)"
   ]
  },
  {
   "cell_type": "code",
   "execution_count": 45,
   "id": "7cc80fcc",
   "metadata": {},
   "outputs": [
    {
     "data": {
      "text/plain": [
       "array([[0.0, 0.0, 0.0, ..., 0.0, 0, '4'],\n",
       "       [0.0, 0.324064942040335, 0.0, ..., 0.0, 3, '5'],\n",
       "       [0.0, 0.0, 0.0, ..., 0.0, 0, '3'],\n",
       "       ...,\n",
       "       [0.0, 0.0, 0.0, ..., 0.0, 0, '5'],\n",
       "       [0.0, 0.0, 0.0, ..., 0.0, 3, '5'],\n",
       "       [0.0, 0.0, 0.0, ..., 0.0, 0, '4']], dtype=object)"
      ]
     },
     "execution_count": 45,
     "metadata": {},
     "output_type": "execute_result"
    }
   ],
   "source": []
  },
  {
   "cell_type": "code",
   "execution_count": 46,
   "id": "d8f85234",
   "metadata": {},
   "outputs": [],
   "source": [
    "def map_(x):\n",
    "    if x==\"positive\":\n",
    "        return 1\n",
    "    elif x==\"negative\":\n",
    "        return 2\n",
    "    else:\n",
    "        return 0"
   ]
  },
  {
   "cell_type": "code",
   "execution_count": 47,
   "id": "a9ed4a39",
   "metadata": {
    "scrolled": true
   },
   "outputs": [],
   "source": [
    "data1[\"final_review\"]=data1[\"final_review\"].apply(map_)\n",
    "Y=data1['final_review']"
   ]
  },
  {
   "cell_type": "code",
   "execution_count": 48,
   "id": "2ac33be9",
   "metadata": {},
   "outputs": [
    {
     "data": {
      "text/plain": [
       "final_review\n",
       "1    7329\n",
       "2    1217\n",
       "0     930\n",
       "Name: count, dtype: int64"
      ]
     },
     "execution_count": 48,
     "metadata": {},
     "output_type": "execute_result"
    }
   ],
   "source": [
    "Y.value_counts()"
   ]
  },
  {
   "cell_type": "code",
   "execution_count": 49,
   "id": "f9383bb9",
   "metadata": {
    "scrolled": true
   },
   "outputs": [
    {
     "data": {
      "text/plain": [
       "((7580, 1002), (1896, 1002), (7580,), (1896,))"
      ]
     },
     "execution_count": 49,
     "metadata": {},
     "output_type": "execute_result"
    }
   ],
   "source": [
    "x_train,x_test,y_train,y_test=train_test_split(X,Y,test_size=0.2,random_state=123)\n",
    "x_train.shape,x_test.shape,y_train.shape,y_test.shape"
   ]
  },
  {
   "cell_type": "code",
   "execution_count": 50,
   "id": "d6d0b914",
   "metadata": {},
   "outputs": [],
   "source": [
    "xg=xgb.XGBClassifier(random_state=123)"
   ]
  },
  {
   "cell_type": "code",
   "execution_count": 51,
   "id": "aa3d48e3",
   "metadata": {},
   "outputs": [
    {
     "data": {
      "text/html": [
       "<style>#sk-container-id-1 {color: black;}#sk-container-id-1 pre{padding: 0;}#sk-container-id-1 div.sk-toggleable {background-color: white;}#sk-container-id-1 label.sk-toggleable__label {cursor: pointer;display: block;width: 100%;margin-bottom: 0;padding: 0.3em;box-sizing: border-box;text-align: center;}#sk-container-id-1 label.sk-toggleable__label-arrow:before {content: \"▸\";float: left;margin-right: 0.25em;color: #696969;}#sk-container-id-1 label.sk-toggleable__label-arrow:hover:before {color: black;}#sk-container-id-1 div.sk-estimator:hover label.sk-toggleable__label-arrow:before {color: black;}#sk-container-id-1 div.sk-toggleable__content {max-height: 0;max-width: 0;overflow: hidden;text-align: left;background-color: #f0f8ff;}#sk-container-id-1 div.sk-toggleable__content pre {margin: 0.2em;color: black;border-radius: 0.25em;background-color: #f0f8ff;}#sk-container-id-1 input.sk-toggleable__control:checked~div.sk-toggleable__content {max-height: 200px;max-width: 100%;overflow: auto;}#sk-container-id-1 input.sk-toggleable__control:checked~label.sk-toggleable__label-arrow:before {content: \"▾\";}#sk-container-id-1 div.sk-estimator input.sk-toggleable__control:checked~label.sk-toggleable__label {background-color: #d4ebff;}#sk-container-id-1 div.sk-label input.sk-toggleable__control:checked~label.sk-toggleable__label {background-color: #d4ebff;}#sk-container-id-1 input.sk-hidden--visually {border: 0;clip: rect(1px 1px 1px 1px);clip: rect(1px, 1px, 1px, 1px);height: 1px;margin: -1px;overflow: hidden;padding: 0;position: absolute;width: 1px;}#sk-container-id-1 div.sk-estimator {font-family: monospace;background-color: #f0f8ff;border: 1px dotted black;border-radius: 0.25em;box-sizing: border-box;margin-bottom: 0.5em;}#sk-container-id-1 div.sk-estimator:hover {background-color: #d4ebff;}#sk-container-id-1 div.sk-parallel-item::after {content: \"\";width: 100%;border-bottom: 1px solid gray;flex-grow: 1;}#sk-container-id-1 div.sk-label:hover label.sk-toggleable__label {background-color: #d4ebff;}#sk-container-id-1 div.sk-serial::before {content: \"\";position: absolute;border-left: 1px solid gray;box-sizing: border-box;top: 0;bottom: 0;left: 50%;z-index: 0;}#sk-container-id-1 div.sk-serial {display: flex;flex-direction: column;align-items: center;background-color: white;padding-right: 0.2em;padding-left: 0.2em;position: relative;}#sk-container-id-1 div.sk-item {position: relative;z-index: 1;}#sk-container-id-1 div.sk-parallel {display: flex;align-items: stretch;justify-content: center;background-color: white;position: relative;}#sk-container-id-1 div.sk-item::before, #sk-container-id-1 div.sk-parallel-item::before {content: \"\";position: absolute;border-left: 1px solid gray;box-sizing: border-box;top: 0;bottom: 0;left: 50%;z-index: -1;}#sk-container-id-1 div.sk-parallel-item {display: flex;flex-direction: column;z-index: 1;position: relative;background-color: white;}#sk-container-id-1 div.sk-parallel-item:first-child::after {align-self: flex-end;width: 50%;}#sk-container-id-1 div.sk-parallel-item:last-child::after {align-self: flex-start;width: 50%;}#sk-container-id-1 div.sk-parallel-item:only-child::after {width: 0;}#sk-container-id-1 div.sk-dashed-wrapped {border: 1px dashed gray;margin: 0 0.4em 0.5em 0.4em;box-sizing: border-box;padding-bottom: 0.4em;background-color: white;}#sk-container-id-1 div.sk-label label {font-family: monospace;font-weight: bold;display: inline-block;line-height: 1.2em;}#sk-container-id-1 div.sk-label-container {text-align: center;}#sk-container-id-1 div.sk-container {/* jupyter's `normalize.less` sets `[hidden] { display: none; }` but bootstrap.min.css set `[hidden] { display: none !important; }` so we also need the `!important` here to be able to override the default hidden behavior on the sphinx rendered scikit-learn.org. See: https://github.com/scikit-learn/scikit-learn/issues/21755 */display: inline-block !important;position: relative;}#sk-container-id-1 div.sk-text-repr-fallback {display: none;}</style><div id=\"sk-container-id-1\" class=\"sk-top-container\"><div class=\"sk-text-repr-fallback\"><pre>XGBClassifier(base_score=None, booster=None, callbacks=None,\n",
       "              colsample_bylevel=None, colsample_bynode=None,\n",
       "              colsample_bytree=None, device=None, early_stopping_rounds=None,\n",
       "              enable_categorical=False, eval_metric=None, feature_types=None,\n",
       "              gamma=None, grow_policy=None, importance_type=None,\n",
       "              interaction_constraints=None, learning_rate=None, max_bin=None,\n",
       "              max_cat_threshold=None, max_cat_to_onehot=None,\n",
       "              max_delta_step=None, max_depth=None, max_leaves=None,\n",
       "              min_child_weight=None, missing=nan, monotone_constraints=None,\n",
       "              multi_strategy=None, n_estimators=None, n_jobs=None,\n",
       "              num_parallel_tree=None, objective=&#x27;multi:softprob&#x27;, ...)</pre><b>In a Jupyter environment, please rerun this cell to show the HTML representation or trust the notebook. <br />On GitHub, the HTML representation is unable to render, please try loading this page with nbviewer.org.</b></div><div class=\"sk-container\" hidden><div class=\"sk-item\"><div class=\"sk-estimator sk-toggleable\"><input class=\"sk-toggleable__control sk-hidden--visually\" id=\"sk-estimator-id-1\" type=\"checkbox\" checked><label for=\"sk-estimator-id-1\" class=\"sk-toggleable__label sk-toggleable__label-arrow\">XGBClassifier</label><div class=\"sk-toggleable__content\"><pre>XGBClassifier(base_score=None, booster=None, callbacks=None,\n",
       "              colsample_bylevel=None, colsample_bynode=None,\n",
       "              colsample_bytree=None, device=None, early_stopping_rounds=None,\n",
       "              enable_categorical=False, eval_metric=None, feature_types=None,\n",
       "              gamma=None, grow_policy=None, importance_type=None,\n",
       "              interaction_constraints=None, learning_rate=None, max_bin=None,\n",
       "              max_cat_threshold=None, max_cat_to_onehot=None,\n",
       "              max_delta_step=None, max_depth=None, max_leaves=None,\n",
       "              min_child_weight=None, missing=nan, monotone_constraints=None,\n",
       "              multi_strategy=None, n_estimators=None, n_jobs=None,\n",
       "              num_parallel_tree=None, objective=&#x27;multi:softprob&#x27;, ...)</pre></div></div></div></div></div>"
      ],
      "text/plain": [
       "XGBClassifier(base_score=None, booster=None, callbacks=None,\n",
       "              colsample_bylevel=None, colsample_bynode=None,\n",
       "              colsample_bytree=None, device=None, early_stopping_rounds=None,\n",
       "              enable_categorical=False, eval_metric=None, feature_types=None,\n",
       "              gamma=None, grow_policy=None, importance_type=None,\n",
       "              interaction_constraints=None, learning_rate=None, max_bin=None,\n",
       "              max_cat_threshold=None, max_cat_to_onehot=None,\n",
       "              max_delta_step=None, max_depth=None, max_leaves=None,\n",
       "              min_child_weight=None, missing=nan, monotone_constraints=None,\n",
       "              multi_strategy=None, n_estimators=None, n_jobs=None,\n",
       "              num_parallel_tree=None, objective='multi:softprob', ...)"
      ]
     },
     "execution_count": 51,
     "metadata": {},
     "output_type": "execute_result"
    }
   ],
   "source": [
    "xg.fit(x_train,y_train)"
   ]
  },
  {
   "cell_type": "code",
   "execution_count": 52,
   "id": "70059293",
   "metadata": {},
   "outputs": [
    {
     "data": {
      "text/plain": [
       "0.8612869198312236"
      ]
     },
     "execution_count": 52,
     "metadata": {},
     "output_type": "execute_result"
    }
   ],
   "source": [
    "predict=xg.predict(x_test)\n",
    "acc=accuracy_score(y_test,predict)\n",
    "acc"
   ]
  },
  {
   "cell_type": "code",
   "execution_count": 65,
   "id": "54c0b909",
   "metadata": {},
   "outputs": [],
   "source": [
    "import pickle\n",
    "import joblib"
   ]
  },
  {
   "cell_type": "code",
   "execution_count": 66,
   "id": "7442b646",
   "metadata": {},
   "outputs": [],
   "source": [
    "from joblib import dump"
   ]
  },
  {
   "cell_type": "code",
   "execution_count": 70,
   "id": "a6c14b1b",
   "metadata": {},
   "outputs": [
    {
     "data": {
      "text/plain": [
       "['model1.joblib']"
      ]
     },
     "execution_count": 70,
     "metadata": {},
     "output_type": "execute_result"
    }
   ],
   "source": [
    "dump(xg, 'model1.joblib')"
   ]
  },
  {
   "cell_type": "code",
   "execution_count": 71,
   "id": "23f345d8",
   "metadata": {},
   "outputs": [
    {
     "data": {
      "text/plain": [
       "['vectozier.joblib']"
      ]
     },
     "execution_count": 71,
     "metadata": {},
     "output_type": "execute_result"
    }
   ],
   "source": [
    "dump(vectorizer, 'vectozier.joblib')"
   ]
  },
  {
   "cell_type": "code",
   "execution_count": 62,
   "id": "20d70b3a",
   "metadata": {},
   "outputs": [],
   "source": [
    "with open('xgboost_model.pkl', 'wb') as f:\n",
    "    pickle.dump(xg, f)"
   ]
  },
  {
   "cell_type": "code",
   "execution_count": 64,
   "id": "3c30f63b",
   "metadata": {},
   "outputs": [],
   "source": [
    "with open('TDIDF_VECTOZIER.pkl', 'wb') as f:\n",
    "    pickle.dump(vectorizer, f)"
   ]
  },
  {
   "cell_type": "code",
   "execution_count": 72,
   "id": "45565032",
   "metadata": {},
   "outputs": [],
   "source": [
    "from joblib import dump, load\n",
    "\n",
    "def save_model_and_vectorizer(model, vectorizer):\n",
    "    dump(model, 'model1.joblib')\n",
    "    dump(vectorizer, 'vectozier.joblib')\n",
    "\n",
    "# Example usage\n",
    "# save_model_and_vectorizer(model, vectorizer)\n"
   ]
  },
  {
   "cell_type": "code",
   "execution_count": null,
   "id": "f3a406ae",
   "metadata": {},
   "outputs": [],
   "source": []
  },
  {
   "cell_type": "code",
   "execution_count": 75,
   "id": "af6b91eb",
   "metadata": {},
   "outputs": [],
   "source": [
    "def save_text_data(text_data, file_path):\n",
    "    # Open the file in write mode with UTF-8 encoding\n",
    "    with open(file_path, 'w', encoding='utf-8') as file:\n",
    "        # Write the text data to the file\n",
    "        file.write(text_data)\n",
    "\n",
    "# Example usage\n",
    "text_data = \"model1.joblib\"  # The text you want to save (could be a file name or description)\n",
    "save_text_data(text_data, 'metadata.txt')  # Save the text data to 'metadata.txt'\n"
   ]
  },
  {
   "cell_type": "code",
   "execution_count": 77,
   "id": "a85e93f3",
   "metadata": {},
   "outputs": [],
   "source": [
    "# Save the joblib file path to a text file\n",
    "def save_metadata(file_path, metadata_path):\n",
    "    with open(metadata_path, 'w', encoding='utf-8') as file:\n",
    "        file.write(file_path)\n",
    "\n",
    "# Example usage\n",
    "joblib_file_path = 'model1.joblib'  # Path to the .joblib file\n",
    "metadata_file_path = 'metadata.txt'  # Path to save the metadata\n",
    "save_metadata(joblib_file_path, metadata_file_path)\n"
   ]
  },
  {
   "cell_type": "code",
   "execution_count": 78,
   "id": "6904e1d0",
   "metadata": {},
   "outputs": [
    {
     "name": "stdout",
     "output_type": "stream",
     "text": [
      "XGBClassifier(base_score=None, booster=None, callbacks=None,\n",
      "              colsample_bylevel=None, colsample_bynode=None,\n",
      "              colsample_bytree=None, device=None, early_stopping_rounds=None,\n",
      "              enable_categorical=False, eval_metric=None, feature_types=None,\n",
      "              gamma=None, grow_policy=None, importance_type=None,\n",
      "              interaction_constraints=None, learning_rate=None, max_bin=None,\n",
      "              max_cat_threshold=None, max_cat_to_onehot=None,\n",
      "              max_delta_step=None, max_depth=None, max_leaves=None,\n",
      "              min_child_weight=None, missing=nan, monotone_constraints=None,\n",
      "              multi_strategy=None, n_estimators=None, n_jobs=None,\n",
      "              num_parallel_tree=None, objective='multi:softprob', ...)\n"
     ]
    }
   ],
   "source": [
    "import joblib\n",
    "\n",
    "# Read the file path from the metadata file and load the model\n",
    "def load_model(metadata_path):\n",
    "    with open(metadata_path, 'r', encoding='utf-8') as file:\n",
    "        joblib_file_path = file.read().strip()  # Read and strip any extra whitespace/newlines\n",
    "    model = joblib.load(joblib_file_path)\n",
    "    return model\n",
    "\n",
    "# Example usage\n",
    "metadata_file_path = 'metadata.txt'  # Path to the metadata file\n",
    "model = load_model(metadata_file_path)\n",
    "\n",
    "# Use the model\n",
    "print(model)\n"
   ]
  },
  {
   "cell_type": "code",
   "execution_count": 79,
   "id": "98375119",
   "metadata": {},
   "outputs": [],
   "source": [
    "import joblib\n",
    "\n",
    "# Save the joblib file path to a text file\n",
    "def save_metadata(file_path, metadata_path):\n",
    "    with open(metadata_path, 'w', encoding='utf-8') as file:\n",
    "        file.write(file_path)\n",
    "\n",
    "# Example usage\n",
    "vectorizer_file_path = 'vectozier.joblib'  # Path to the vectorizer .joblib file\n",
    "metadata_file_path = 'vectorizer_metadata.txt'  # Path to save the metadata\n",
    "save_metadata(vectorizer_file_path, metadata_file_path)\n"
   ]
  },
  {
   "cell_type": "code",
   "execution_count": 80,
   "id": "1e88e6ef",
   "metadata": {},
   "outputs": [
    {
     "name": "stdout",
     "output_type": "stream",
     "text": [
      "TfidfVectorizer(max_features=1000, min_df=5, ngram_range=(1, 2))\n"
     ]
    }
   ],
   "source": [
    "import joblib\n",
    "\n",
    "# Read the file path from the metadata file and load the vectorizer\n",
    "def load_vectorizer(metadata_path):\n",
    "    with open(metadata_path, 'r', encoding='utf-8') as file:\n",
    "        vectorizer_file_path = file.read().strip()  # Read and strip any extra whitespace/newlines\n",
    "    vectorizer = joblib.load(vectorizer_file_path)\n",
    "    return vectorizer\n",
    "\n",
    "# Example usage\n",
    "metadata_file_path = 'vectorizer_metadata.txt'  # Path to the metadata file\n",
    "vectorizer = load_vectorizer(metadata_file_path)\n",
    "\n",
    "# Use the vectorizer\n",
    "print(vectorizer)\n"
   ]
  },
  {
   "cell_type": "code",
   "execution_count": 82,
   "id": "57709255",
   "metadata": {},
   "outputs": [
    {
     "name": "stderr",
     "output_type": "stream",
     "text": [
      "2024-07-31 00:35:50.081 \n",
      "  \u001b[33m\u001b[1mWarning:\u001b[0m to view this Streamlit app on a browser, run it with the following\n",
      "  command:\n",
      "\n",
      "    streamlit run C:\\Users\\aazar\\anaconda3\\Lib\\site-packages\\ipykernel_launcher.py [ARGUMENTS]\n",
      "2024-07-31 00:35:50.081 Session state does not function when running a script without `streamlit run`\n"
     ]
    }
   ],
   "source": [
    "import streamlit as st\n",
    "import pickle\n",
    "import numpy as np\n",
    "import pandas as pd\n",
    "from xgboost import XGBClassifier\n",
    "from sklearn.feature_extraction.text import TfidfVectorizer\n",
    "\n",
    "\n",
    "\n",
    "st.title('Sentiment Analysis Prediction')\n",
    "\n",
    "text = st.text_area('Enter your text here:')\n",
    "format_option = st.selectbox('Select format:', ['Amazon Video', 'DVD', 'Blu-ray', 'VHS Tape', 'HD DVD', 'MP3 Music', 'Audio CD'])\n",
    "rating = st.slider('Select rating:', 1, 5)\n",
    "\n",
    "# Fit LabelEncoder on all possible formats\n",
    "all_possible_formats = ['Amazon Video', 'DVD', 'Blu-ray', 'VHS Tape', 'HD DVD', 'MP3 Music', 'Audio CD']\n",
    "le = LabelEncoder()\n",
    "le.fit(all_possible_formats)\n",
    "\n",
    "def preprocess_text(text):\n",
    "    # Read text with ANSI encoding and convert it to UTF-8\n",
    "    return text.encode('latin1').decode('utf-8')\n",
    "\n",
    "def predict_sentiment(text, format_option, rating, model, vectorizer):\n",
    "    try:\n",
    "        # Preprocess the text\n",
    "        text = preprocess_text(text)\n",
    "        \n",
    "        # Transform the text data\n",
    "        text_features = vectorizer.transform([text]).toarray()\n",
    "        \n",
    "        # Encode the categorical feature using LabelEncoder\n",
    "        format_encoded = le.transform([format_option]).reshape(1, -1)\n",
    "        \n",
    "        # Combine the features\n",
    "        features = np.concatenate([text_features, format_encoded, np.array([[rating]], dtype=float)], axis=1)\n",
    "        \n",
    "        # Predict the sentiment\n",
    "        prediction = model.predict(features)\n",
    "        predicted_label = prediction[0]\n",
    "        \n",
    "        return predicted_label\n",
    "    except UnicodeEncodeError as e:\n",
    "        st.error(f\"Encoding error: {e}\")\n",
    "    except Exception as e:\n",
    "        st.error(f\"An unexpected error occurred: {e}\")\n",
    "\n",
    "if st.button(\"Predict Sentiment\"):\n",
    "    if text:\n",
    "        try:\n",
    "            sentiment = predict_sentiment(text, format_option, rating, model, vectorizer)\n",
    "            st.write(f\"Predicted Sentiment: {sentiment}\")\n",
    "        except UnicodeEncodeError as e:\n",
    "            st.error(f\"Encoding error: {e}\")\n",
    "        except Exception as e:\n",
    "            st.error(f\"An unexpected error occurred: {e}\")\n",
    "    else:\n",
    "        st.write(\"Please enter text for prediction.\")"
   ]
  },
  {
   "cell_type": "code",
   "execution_count": 87,
   "id": "50458dca",
   "metadata": {},
   "outputs": [
    {
     "name": "stdout",
     "output_type": "stream",
     "text": [
      "Number of features used for training: 1002\n"
     ]
    }
   ],
   "source": [
    "print(f\"Number of features used for training: {X.shape[1]}\")"
   ]
  },
  {
   "cell_type": "code",
   "execution_count": 88,
   "id": "46a6c458",
   "metadata": {},
   "outputs": [
    {
     "ename": "NameError",
     "evalue": "name 'text_features' is not defined",
     "output_type": "error",
     "traceback": [
      "\u001b[1;31m---------------------------------------------------------------------------\u001b[0m",
      "\u001b[1;31mNameError\u001b[0m                                 Traceback (most recent call last)",
      "Cell \u001b[1;32mIn[88], line 1\u001b[0m\n\u001b[1;32m----> 1\u001b[0m \u001b[38;5;28mprint\u001b[39m(\u001b[38;5;124mf\u001b[39m\u001b[38;5;124m\"\u001b[39m\u001b[38;5;124mNumber of features in input data: \u001b[39m\u001b[38;5;132;01m{\u001b[39;00mtext_features\u001b[38;5;241m.\u001b[39mshape[\u001b[38;5;241m1\u001b[39m]\u001b[38;5;132;01m}\u001b[39;00m\u001b[38;5;124m\"\u001b[39m)\n",
      "\u001b[1;31mNameError\u001b[0m: name 'text_features' is not defined"
     ]
    }
   ],
   "source": [
    "print(f\"Number of features in input data: {text_features.shape[1]}\")\n"
   ]
  }
 ],
 "metadata": {
  "kernelspec": {
   "display_name": "Python 3 (ipykernel)",
   "language": "python",
   "name": "python3"
  },
  "language_info": {
   "codemirror_mode": {
    "name": "ipython",
    "version": 3
   },
   "file_extension": ".py",
   "mimetype": "text/x-python",
   "name": "python",
   "nbconvert_exporter": "python",
   "pygments_lexer": "ipython3",
   "version": "3.11.5"
  }
 },
 "nbformat": 4,
 "nbformat_minor": 5
}
