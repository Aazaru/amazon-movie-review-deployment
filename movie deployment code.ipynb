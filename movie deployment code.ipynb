{
 "cells": [
  {
   "cell_type": "code",
   "execution_count": 43,
   "id": "6f61e08f",
   "metadata": {},
   "outputs": [],
   "source": [
    "import joblib\n",
    "import numpy as np\n",
    "import streamlit as st\n",
    "import pandas as pd\n",
    "\n",
    "# Load the saved preprocessors and model\n",
    "vectorizer = joblib.load(r'C:\\Users\\aazar\\OneDrive\\Desktop\\Data Science projects\\TDIDF_VECTOZIER.pkl')\n",
    "model = joblib.load(r'C:\\Users\\aazar\\OneDrive\\Desktop\\Data Science projects\\xgboost_model.pkl')\n",
    "label_encoder = joblib.load(r'C:\\Users\\aazar\\OneDrive\\Desktop\\Data Science projects\\label_encoder.pkl')\n",
    "\n",
    "# Known categories and prediction mapping\n",
    "known_categories = ['Amazon Video', 'DVD', 'Blu-ray', 'VHS Tape', 'HD DVD', 'MP3 Music', 'Audio CD']\n",
    "prediction_map = {0: 'Neutral', 1: 'Positive', 2: 'Negative'}\n",
    "\n",
    "# Streamlit app\n",
    "st.title('Sentiment Analysis Prediction')\n",
    "\n",
    "# Input fields\n",
    "movie_name = st.text_input('Enter movie name:', '')\n",
    "text = st.text_input('Enter your reviews:', '')\n",
    "format = st.radio('Select format:', known_categories)\n",
    "\n",
    "# Radio buttons for rating\n",
    "rating = st.radio('Select rating:', [1, 2, 3, 4, 5])\n",
    "\n",
    "if st.button('Predict'):\n",
    "    # Preprocess the text feature\n",
    "    text_features = vectorizer.transform([text])\n",
    "    text_features_df = pd.DataFrame(text_features.toarray())\n",
    "\n",
    "    # Encode the format feature\n",
    "    format_features = label_encoder.transform([format]).reshape(-1, 1)\n",
    "    format_features_df = pd.DataFrame(format_features, columns=['Format'])\n",
    "\n",
    "    # Prepare the rating feature\n",
    "    rating_features_df = pd.DataFrame([[rating]], columns=['Rating'])\n",
    "\n",
    "    # Combine all features using pandas.concat\n",
    "    combined_features_df = pd.concat([text_features_df, format_features_df, rating_features_df], axis=1)\n",
    "\n",
    "    # Convert DataFrame to numpy array for model prediction\n",
    "    combined_features = combined_features_df.values\n",
    "\n",
    "    # Make the prediction\n",
    "    prediction = model.predict(combined_features)\n",
    "\n",
    "    # Map the prediction to labels\n",
    "    prediction_label = prediction_map.get(prediction[0], 'Unknown')\n",
    "\n",
    "    # Display results\n",
    "    st.write(f'Prediction: {prediction_label}')\n",
    "    st.write(f'Movie Name: {movie_name}')"
   ]
  },
  {
   "cell_type": "code",
   "execution_count": 44,
   "id": "89d032f9",
   "metadata": {},
   "outputs": [
    {
     "name": "stdout",
     "output_type": "stream",
     "text": [
      "^C\n"
     ]
    }
   ],
   "source": [
    "! streamlit run app.py"
   ]
  }
 ],
 "metadata": {
  "kernelspec": {
   "display_name": "Python 3 (ipykernel)",
   "language": "python",
   "name": "python3"
  },
  "language_info": {
   "codemirror_mode": {
    "name": "ipython",
    "version": 3
   },
   "file_extension": ".py",
   "mimetype": "text/x-python",
   "name": "python",
   "nbconvert_exporter": "python",
   "pygments_lexer": "ipython3",
   "version": "3.11.5"
  }
 },
 "nbformat": 4,
 "nbformat_minor": 5
}
